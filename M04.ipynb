{
 "cells": [
  {
   "cell_type": "code",
   "execution_count": 6,
   "id": "0e64a925",
   "metadata": {},
   "outputs": [],
   "source": [
    "#Question 11.1:\n",
    "\n",
    "#zoo.py file:\n",
    "def hours():\n",
    "    print(\"Open 9-5 daily!\")"
   ]
  },
  {
   "cell_type": "code",
   "execution_count": 7,
   "id": "7d398782",
   "metadata": {},
   "outputs": [
    {
     "name": "stdout",
     "output_type": "stream",
     "text": [
      "Open 9-5 daily!\n"
     ]
    }
   ],
   "source": [
    "#Import  zoo module and call its hours() function\n",
    "import zoo\n",
    "hours()"
   ]
  },
  {
   "cell_type": "code",
   "execution_count": 8,
   "id": "9fafd6c8",
   "metadata": {},
   "outputs": [
    {
     "name": "stdout",
     "output_type": "stream",
     "text": [
      "Open 9-5 daily\n"
     ]
    }
   ],
   "source": [
    "#Question 11.2:\n",
    "import zoo as menagerie\n",
    "menagerie.hours()"
   ]
  }
 ],
 "metadata": {
  "kernelspec": {
   "display_name": "Python 3 (ipykernel)",
   "language": "python",
   "name": "python3"
  },
  "language_info": {
   "codemirror_mode": {
    "name": "ipython",
    "version": 3
   },
   "file_extension": ".py",
   "mimetype": "text/x-python",
   "name": "python",
   "nbconvert_exporter": "python",
   "pygments_lexer": "ipython3",
   "version": "3.10.5"
  }
 },
 "nbformat": 4,
 "nbformat_minor": 5
}
